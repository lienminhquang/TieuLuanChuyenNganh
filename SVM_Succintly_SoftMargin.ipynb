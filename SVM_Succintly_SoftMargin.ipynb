{
 "cells": [
  {
   "cell_type": "code",
   "execution_count": 1,
   "metadata": {},
   "outputs": [],
   "source": [
    "import cvxopt\n",
    "import numpy as np\n",
    "import pandas as pd"
   ]
  },
  {
   "cell_type": "code",
   "execution_count": 2,
   "metadata": {},
   "outputs": [],
   "source": [
    "class SVM(object):\n",
    "    \n",
    "    def __init__(self, C=None):\n",
    "        self.C = C\n",
    "        if self.C is not None: self.C = float(self.C)\n",
    "            \n",
    "    def fit(self, X, y, show_process):\n",
    "        m_samples = X.shape[0]\n",
    "        \n",
    "        \n",
    "        #Gram matrix\n",
    "        K = np.array([np.dot(X[i], X[j])\n",
    "             for j in range(m_samples)\n",
    "             for i in range(m_samples)]).reshape((m_samples,m_samples))\n",
    "        \n",
    "        \n",
    "        P = cvxopt.matrix(np.outer(y,y)*K)\n",
    "        if show_process == True:\n",
    "            print(\"P: \")\n",
    "            print(P)\n",
    "        \n",
    "        q = cvxopt.matrix(-1 * np.ones(m_samples))\n",
    "        if show_process == True:\n",
    "            print(\"q: \")\n",
    "            print(q)\n",
    "            \n",
    "        A = cvxopt.matrix(y, (1,m_samples))\n",
    "        if show_process == True:\n",
    "            print(\"A: \")\n",
    "            print(A)\n",
    "            \n",
    "        b = cvxopt.matrix(0.0)\n",
    "        if show_process == True:\n",
    "            print(\"b: \")\n",
    "            print(b)\n",
    "        \n",
    "        if self.C is None:\n",
    "            G = cvxopt.matrix(np.diag(np.ones(m_samples) * -1))\n",
    "            h = cvxopt.matrix(np.zeros(m_samples))\n",
    "        else:\n",
    "            tmp1 = np.diag(-1 * np.ones(m_samples))\n",
    "            tmp2 = np.identity(m_samples)\n",
    "            G = cvxopt.matrix(np.vstack((tmp1, tmp2))) #vstack noi 2 ma tran theo chieu doc\n",
    "            tmp1 = np.zeros(m_samples)\n",
    "            tmp2 = np.ones(m_samples) * self.C\n",
    "            h = cvxopt.matrix(np.hstack((tmp1, tmp2)))\n",
    "            \n",
    "        if show_process == True:\n",
    "            print(\"G: \")\n",
    "            print(G)\n",
    "            print(\"h: \")\n",
    "            print(\"h\")\n",
    "        \n",
    "        if show_process == True:\n",
    "            print(\"solve: ...\")\n",
    "        solution = cvxopt.solvers.qp(P, q, G, h, A, b)\n",
    "        \n",
    "        \n",
    "        self.alphas = np.ravel(solution['x'])\n",
    "        if show_process == True:\n",
    "            print(\"alphas: \")\n",
    "            print(self.alphas)\n",
    "            \n",
    "        alphas_positive = (self.alphas >= 1e-6) \n",
    "        self.support_vectors = X[alphas_positive]\n",
    "        self.support_vectors_label = y[alphas_positive]\n",
    "        \n",
    "        self.w = np.sum(self.alphas[i] * y[i] * X[i]\n",
    "                 for i in range(len(y)))\n",
    "        print(\"w: \")\n",
    "        print(self.w)\n",
    "        \n",
    "        self.b = np.sum([ self.support_vectors_label[i] - np.dot(self.w,  self.support_vectors[i])\n",
    "                  for i in range(len( self.support_vectors))]) / len( self.support_vectors)\n",
    "        print(\"b: \")\n",
    "        print(self.b)\n",
    "        "
   ]
  },
  {
   "cell_type": "code",
   "execution_count": 3,
   "metadata": {
    "scrolled": true
   },
   "outputs": [
    {
     "name": "stdout",
     "output_type": "stream",
     "text": [
      "P: \n",
      "[ 1.00e+01  1.90e+01 -5.00e+00  1.70e+01 -9.00e+00 -7.00e+00]\n",
      "[ 1.90e+01  3.70e+01 -8.00e+00  3.20e+01 -1.50e+01 -1.00e+01]\n",
      "[-5.00e+00 -8.00e+00  5.00e+00 -9.00e+00  8.00e+00  9.00e+00]\n",
      "[ 1.70e+01  3.20e+01 -9.00e+00  2.90e+01 -1.60e+01 -1.30e+01]\n",
      "[-9.00e+00 -1.50e+01  8.00e+00 -1.60e+01  1.30e+01  1.40e+01]\n",
      "[-7.00e+00 -1.00e+01  9.00e+00 -1.30e+01  1.40e+01  1.70e+01]\n",
      "\n",
      "q: \n",
      "[-1.00e+00]\n",
      "[-1.00e+00]\n",
      "[-1.00e+00]\n",
      "[-1.00e+00]\n",
      "[-1.00e+00]\n",
      "[-1.00e+00]\n",
      "\n",
      "A: \n",
      "[ 1.00e+00  1.00e+00 -1.00e+00  1.00e+00 -1.00e+00 -1.00e+00]\n",
      "\n",
      "b: \n",
      "[ 0.00e+00]\n",
      "\n",
      "G: \n",
      "[-1.00e+00  0.00e+00  0.00e+00  0.00e+00  0.00e+00  0.00e+00]\n",
      "[ 0.00e+00 -1.00e+00  0.00e+00  0.00e+00  0.00e+00  0.00e+00]\n",
      "[ 0.00e+00  0.00e+00 -1.00e+00  0.00e+00  0.00e+00  0.00e+00]\n",
      "[ 0.00e+00  0.00e+00  0.00e+00 -1.00e+00  0.00e+00  0.00e+00]\n",
      "[ 0.00e+00  0.00e+00  0.00e+00  0.00e+00 -1.00e+00  0.00e+00]\n",
      "[ 0.00e+00  0.00e+00  0.00e+00  0.00e+00  0.00e+00 -1.00e+00]\n",
      "[ 1.00e+00  0.00e+00  0.00e+00  0.00e+00  0.00e+00  0.00e+00]\n",
      "[ 0.00e+00  1.00e+00  0.00e+00  0.00e+00  0.00e+00  0.00e+00]\n",
      "[ 0.00e+00  0.00e+00  1.00e+00  0.00e+00  0.00e+00  0.00e+00]\n",
      "[ 0.00e+00  0.00e+00  0.00e+00  1.00e+00  0.00e+00  0.00e+00]\n",
      "[ 0.00e+00  0.00e+00  0.00e+00  0.00e+00  1.00e+00  0.00e+00]\n",
      "[ 0.00e+00  0.00e+00  0.00e+00  0.00e+00  0.00e+00  1.00e+00]\n",
      "\n",
      "h: \n",
      "h\n",
      "solve: ...\n",
      "     pcost       dcost       gap    pres   dres\n",
      " 0:  8.4672e+02 -1.7440e+04  3e+04  2e-01  6e-14\n",
      " 1:  1.0042e+03 -1.9080e+03  3e+03  1e-02  1e-13\n",
      " 2:  1.8043e+02 -2.1437e+02  4e+02  6e-06  3e-14\n",
      " 3:  2.3957e+01 -3.3566e+01  6e+01  1e-15  5e-15\n",
      " 4:  2.5386e+00 -5.5819e+00  8e+00  2e-16  3e-15\n",
      " 5: -1.2832e-01 -1.2201e+00  1e+00  2e-16  2e-15\n",
      " 6: -4.0358e-01 -4.9784e-01  9e-02  1e-16  2e-15\n",
      " 7: -4.4155e-01 -4.4723e-01  6e-03  2e-16  7e-16\n",
      " 8: -4.4441e-01 -4.4448e-01  6e-05  1e-16  8e-16\n",
      " 9: -4.4444e-01 -4.4444e-01  6e-07  9e-17  8e-16\n",
      "10: -4.4444e-01 -4.4444e-01  6e-09  2e-16  7e-16\n",
      "Optimal solution found.\n",
      "alphas: \n",
      "[4.44444442e-01 2.02271307e-10 2.22222215e-01 2.39847892e-09\n",
      " 2.22222229e-01 7.07262230e-10]\n",
      "w: \n",
      "[-0.66666667  0.66666667]\n",
      "b: \n",
      "-0.3333333199707276\n"
     ]
    },
    {
     "name": "stderr",
     "output_type": "stream",
     "text": [
      "c:\\program files (x86)\\microsoft visual studio\\shared\\python37_64\\lib\\site-packages\\ipykernel_launcher.py:69: DeprecationWarning: Calling np.sum(generator) is deprecated, and in the future will give a different result. Use np.sum(np.fromiter(generator)) or the python sum builtin instead.\n"
     ]
    }
   ],
   "source": [
    "X = np.array([[1., 3.],[1. ,6.],[2. ,1.],[2. ,5.],[3. ,2.],[4. ,1.]])\n",
    "y = np.array([1., 1., -1., 1., -1., -1.])\n",
    "\n",
    "#X = np.array([[10., 30.],[10. ,60.],[20. ,10.],[20. ,50.],[30. ,20.],[40. ,10.], [50, 10.0]])\n",
    "#y = np.array([1., 1., -1., 1., -1., -1., -1.])\n",
    "\n",
    "#X = np.array([[8, 7], [4, 10], [9, 7], [7, 10],[9, 6], [4, 8], [10, 10], [2, 7], [8, 3], [7, 5], [4, 4],[4, 6], [1, 3], [2, 5]])\n",
    "#y = np.array([1, 1., 1., 1,1, 1, 1, -1, -1, -1, -1,-1, -1, -1])\n",
    "\n",
    "\n",
    "clf = SVM(C=100)\n",
    "clf.fit(X, y, True)\n",
    "w = clf.w\n",
    "b = clf.b"
   ]
  },
  {
   "cell_type": "code",
   "execution_count": 4,
   "metadata": {},
   "outputs": [],
   "source": [
    "import matplotlib.pyplot as plt\n"
   ]
  },
  {
   "cell_type": "code",
   "execution_count": 9,
   "metadata": {},
   "outputs": [
    {
     "data": {
      "text/plain": [
       "[<matplotlib.lines.Line2D at 0x26521b92278>]"
      ]
     },
     "execution_count": 9,
     "metadata": {},
     "output_type": "execute_result"
    },
    {
     "data": {
      "image/png": "[encoded data removed]",
      "text/plain": [
       "<Figure size 432x288 with 1 Axes>"
      ]
     },
     "metadata": {
      "needs_background": "light"
     },
     "output_type": "display_data"
    }
   ],
   "source": [
    "x = np.linspace(0, 4, 10)\n",
    "plt.plot(X[:,0], X[:,1], 'go')\n",
    "plt.plot(x, (-b - x*w[0])/w[1], 'b-')\n"
   ]
  },
  {
   "cell_type": "code",
   "execution_count": null,
   "metadata": {},
   "outputs": [],
   "source": []
  },
  {
   "cell_type": "code",
   "execution_count": 10,
   "metadata": {},
   "outputs": [
    {
     "name": "stdout",
     "output_type": "stream",
     "text": [
      "w =  [[-0.66646154  0.66646154]]\n",
      "b =  [-0.33333333]\n"
     ]
    },
    {
     "data": {
      "image/png": "[encoded data removed]",
      "text/plain": [
       "<Figure size 432x288 with 1 Axes>"
      ]
     },
     "metadata": {
      "needs_background": "light"
     },
     "output_type": "display_data"
    }
   ],
   "source": [
    "\n",
    "import numpy as np\n",
    "from sklearn.svm import SVC\n",
    "import matplotlib.pyplot as plt\n",
    "\n",
    "\n",
    "\n",
    "# #############################################################################\n",
    "# Fit regression model\n",
    "svc_lin = SVC(kernel='linear', C=100, gamma='auto')\n",
    "svc_lin.fit(X, y)\n",
    "w = svc_lin.coef_\n",
    "b = svc_lin.intercept_\n",
    "print('w = ', w)\n",
    "print('b = ', b)\n",
    "\n",
    "# #############################################################################\n",
    "def plot_svc_decision_function(clf, ax=None, plot_support=True):\n",
    "    \"\"\"Plot the decision function for a 2D SVC\"\"\"\n",
    "    if ax is None:\n",
    "        ax = plt.gca()\n",
    "    xlim = ax.get_xlim()\n",
    "    ylim = ax.get_ylim()\n",
    "\n",
    "    # create grid to evaluate model\n",
    "    x = np.linspace(xlim[0], xlim[1], 30)\n",
    "    y = np.linspace(ylim[0], ylim[1], 30)\n",
    "    Y, X = np.meshgrid(y, x)\n",
    "    xy = np.vstack([X.ravel(), Y.ravel()]).T\n",
    "    P = clf.decision_function(xy).reshape(X.shape)\n",
    "\n",
    "    # plot decision boundary and margins\n",
    "    ax.contour(X, Y, P, colors='k',\n",
    "               levels=[-1, 0, 1], alpha=0.5,\n",
    "               linestyles=['--', '-', '--'])\n",
    "\n",
    "    # plot support vectors\n",
    "    if plot_support:\n",
    "        ax.scatter(clf.support_vectors_[:, 0],\n",
    "                   clf.support_vectors_[:, 1],\n",
    "                   s=300, linewidth=1, facecolors='none');\n",
    "    ax.set_xlim(xlim)\n",
    "    ax.set_ylim(ylim)\n",
    "\n",
    "\n",
    "plt.scatter(X[:, 0], X[:, 1], c=y, s=50, cmap='brg');\n",
    "plot_svc_decision_function(svc_lin)\n",
    "plt.show()\n",
    "\n"
   ]
  },
  {
   "cell_type": "code",
   "execution_count": null,
   "metadata": {},
   "outputs": [],
   "source": []
  }
 ],
 "metadata": {
  "kernelspec": {
   "display_name": "Python 3",
   "language": "python",
   "name": "python3"
  },
  "language_info": {
   "codemirror_mode": {
    "name": "ipython",
    "version": 3
   },
   "file_extension": ".py",
   "mimetype": "text/x-python",
   "name": "python",
   "nbconvert_exporter": "python",
   "pygments_lexer": "ipython3",
   "version": "3.7.3"
  }
 },
 "nbformat": 4,
 "nbformat_minor": 2
}

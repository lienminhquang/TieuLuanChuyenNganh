{
 "cells": [
  {
   "cell_type": "code",
   "execution_count": 1,
   "metadata": {},
   "outputs": [],
   "source": [
    "import cvxopt\n",
    "import numpy as np\n",
    "import pandas as pd"
   ]
  },
  {
   "cell_type": "code",
   "execution_count": 2,
   "metadata": {},
   "outputs": [
    {
     "name": "stdout",
     "output_type": "stream",
     "text": [
      "X:\n",
      "[[ 8  7]\n",
      " [ 4 10]\n",
      " [ 9  7]\n",
      " [ 7 10]\n",
      " [ 9  6]\n",
      " [ 4  8]\n",
      " [10 10]\n",
      " [ 2  7]\n",
      " [ 8  3]\n",
      " [ 7  5]\n",
      " [ 4  4]\n",
      " [ 4  6]\n",
      " [ 1  3]\n",
      " [ 2  5]\n",
      " [ 5  7]]\n",
      "y:\n",
      "[ 1.  1.  1.  1.  1.  1.  1. -1. -1. -1. -1. -1. -1. -1. -1.]\n",
      "m:  15\n"
     ]
    }
   ],
   "source": [
    "X = np.array([[1., 3.],[1. ,6.],[2. ,1.],[2. ,5.],[3. ,2.],[4. ,1.], [5, 1.0]])\n",
    "y = np.array([1., 1., -1., 1., -1., -1., -1.])\n",
    "\n",
    "\n",
    "X = np.array([[8, 7], [4, 10], [9, 7], [7, 10],[9, 6], [4, 8], [10, 10], [2, 7], [8, 3], [7, 5], [4, 4],[4, 6], [1, 3], [2, 5], [5, 7]])\n",
    "y = np.array([1, 1., 1., 1,1, 1, 1, -1, -1, -1, -1,-1, -1, -1, -1])\n",
    "\n",
    "print('X:')\n",
    "print(X)\n",
    "print('y:')\n",
    "print(y)\n",
    "m = X.shape[0]\n",
    "print('m: ' , m)"
   ]
  },
  {
   "cell_type": "code",
   "execution_count": 3,
   "metadata": {},
   "outputs": [
    {
     "name": "stdout",
     "output_type": "stream",
     "text": [
      "K = (i=1->m)(j=1->m)(xi.xj)\n",
      "[[113 102 121 126 114  88 150  65  85  91  60  74  29  51  89]\n",
      " [102 116 106 128  96  96 140  78  62  78  56  76  34  58  90]\n",
      " [121 106 130 133 123  92 160  67  93  98  64  78  30  53  94]\n",
      " [126 128 133 149 123 108 170  84  86  99  68  88  37  64 105]\n",
      " [114  96 123 123 117  84 150  60  90  93  60  72  27  48  87]\n",
      " [ 88  96  92 108  84  80 120  64  56  68  48  64  28  48  76]\n",
      " [150 140 160 170 150 120 200  90 110 120  80 100  40  70 120]\n",
      " [ 65  78  67  84  60  64  90  53  37  49  36  50  23  39  59]\n",
      " [ 85  62  93  86  90  56 110  37  73  71  44  50  17  31  61]\n",
      " [ 91  78  98  99  93  68 120  49  71  74  48  58  22  39  70]\n",
      " [ 60  56  64  68  60  48  80  36  44  48  32  40  16  28  48]\n",
      " [ 74  76  78  88  72  64 100  50  50  58  40  52  22  38  62]\n",
      " [ 29  34  30  37  27  28  40  23  17  22  16  22  10  17  26]\n",
      " [ 51  58  53  64  48  48  70  39  31  39  28  38  17  29  45]\n",
      " [ 89  90  94 105  87  76 120  59  61  70  48  62  26  45  74]]\n"
     ]
    }
   ],
   "source": [
    "K = np.array([np.dot(X[i], X[j])\n",
    "             for j in range(m)\n",
    "             for i in range(m)]).reshape((m,m))\n",
    "print(\"K = (i=1->m)(j=1->m)(xi.xj)\")\n",
    "print(K)"
   ]
  },
  {
   "cell_type": "code",
   "execution_count": 4,
   "metadata": {},
   "outputs": [
    {
     "name": "stdout",
     "output_type": "stream",
     "text": [
      "[[ 1.  1.  1.  1.  1.  1.  1. -1. -1. -1. -1. -1. -1. -1. -1.]\n",
      " [ 1.  1.  1.  1.  1.  1.  1. -1. -1. -1. -1. -1. -1. -1. -1.]\n",
      " [ 1.  1.  1.  1.  1.  1.  1. -1. -1. -1. -1. -1. -1. -1. -1.]\n",
      " [ 1.  1.  1.  1.  1.  1.  1. -1. -1. -1. -1. -1. -1. -1. -1.]\n",
      " [ 1.  1.  1.  1.  1.  1.  1. -1. -1. -1. -1. -1. -1. -1. -1.]\n",
      " [ 1.  1.  1.  1.  1.  1.  1. -1. -1. -1. -1. -1. -1. -1. -1.]\n",
      " [ 1.  1.  1.  1.  1.  1.  1. -1. -1. -1. -1. -1. -1. -1. -1.]\n",
      " [-1. -1. -1. -1. -1. -1. -1.  1.  1.  1.  1.  1.  1.  1.  1.]\n",
      " [-1. -1. -1. -1. -1. -1. -1.  1.  1.  1.  1.  1.  1.  1.  1.]\n",
      " [-1. -1. -1. -1. -1. -1. -1.  1.  1.  1.  1.  1.  1.  1.  1.]\n",
      " [-1. -1. -1. -1. -1. -1. -1.  1.  1.  1.  1.  1.  1.  1.  1.]\n",
      " [-1. -1. -1. -1. -1. -1. -1.  1.  1.  1.  1.  1.  1.  1.  1.]\n",
      " [-1. -1. -1. -1. -1. -1. -1.  1.  1.  1.  1.  1.  1.  1.  1.]\n",
      " [-1. -1. -1. -1. -1. -1. -1.  1.  1.  1.  1.  1.  1.  1.  1.]\n",
      " [-1. -1. -1. -1. -1. -1. -1.  1.  1.  1.  1.  1.  1.  1.  1.]]\n",
      "P = y(yT)K\n",
      "[ 1.13e+02  1.02e+02  1.21e+02  1.26e+02  1.14e+02  8.80e+01  1.50e+02 ... ]\n",
      "[ 1.02e+02  1.16e+02  1.06e+02  1.28e+02  9.60e+01  9.60e+01  1.40e+02 ... ]\n",
      "[ 1.21e+02  1.06e+02  1.30e+02  1.33e+02  1.23e+02  9.20e+01  1.60e+02 ... ]\n",
      "[ 1.26e+02  1.28e+02  1.33e+02  1.49e+02  1.23e+02  1.08e+02  1.70e+02 ... ]\n",
      "[ 1.14e+02  9.60e+01  1.23e+02  1.23e+02  1.17e+02  8.40e+01  1.50e+02 ... ]\n",
      "[ 8.80e+01  9.60e+01  9.20e+01  1.08e+02  8.40e+01  8.00e+01  1.20e+02 ... ]\n",
      "[ 1.50e+02  1.40e+02  1.60e+02  1.70e+02  1.50e+02  1.20e+02  2.00e+02 ... ]\n",
      "[-6.50e+01 -7.80e+01 -6.70e+01 -8.40e+01 -6.00e+01 -6.40e+01 -9.00e+01 ... ]\n",
      "[-8.50e+01 -6.20e+01 -9.30e+01 -8.60e+01 -9.00e+01 -5.60e+01 -1.10e+02 ... ]\n",
      "[-9.10e+01 -7.80e+01 -9.80e+01 -9.90e+01 -9.30e+01 -6.80e+01 -1.20e+02 ... ]\n",
      "[-6.00e+01 -5.60e+01 -6.40e+01 -6.80e+01 -6.00e+01 -4.80e+01 -8.00e+01 ... ]\n",
      "[-7.40e+01 -7.60e+01 -7.80e+01 -8.80e+01 -7.20e+01 -6.40e+01 -1.00e+02 ... ]\n",
      "[-2.90e+01 -3.40e+01 -3.00e+01 -3.70e+01 -2.70e+01 -2.80e+01 -4.00e+01 ... ]\n",
      "[-5.10e+01 -5.80e+01 -5.30e+01 -6.40e+01 -4.80e+01 -4.80e+01 -7.00e+01 ... ]\n",
      "[-8.90e+01 -9.00e+01 -9.40e+01 -1.05e+02 -8.70e+01 -7.60e+01 -1.20e+02 ... ]\n",
      "\n"
     ]
    }
   ],
   "source": [
    "print(np.outer(y, y))\n",
    "\n",
    "P = cvxopt.matrix(np.outer(y,y)*K)\n",
    "print(\"P = y(yT)K\")\n",
    "print(P)"
   ]
  },
  {
   "cell_type": "code",
   "execution_count": 5,
   "metadata": {},
   "outputs": [
    {
     "name": "stdout",
     "output_type": "stream",
     "text": [
      "q = -1\n",
      "[-1.00e+00]\n",
      "[-1.00e+00]\n",
      "[-1.00e+00]\n",
      "[-1.00e+00]\n",
      "[-1.00e+00]\n",
      "[-1.00e+00]\n",
      "[-1.00e+00]\n",
      "[-1.00e+00]\n",
      "[-1.00e+00]\n",
      "[-1.00e+00]\n",
      "[-1.00e+00]\n",
      "[-1.00e+00]\n",
      "[-1.00e+00]\n",
      "[-1.00e+00]\n",
      "[-1.00e+00]\n",
      "\n"
     ]
    }
   ],
   "source": [
    "q = cvxopt.matrix(-1 * np.ones(m))\n",
    "print(\"q = -1\")\n",
    "print(q)"
   ]
  },
  {
   "cell_type": "code",
   "execution_count": 6,
   "metadata": {},
   "outputs": [
    {
     "name": "stdout",
     "output_type": "stream",
     "text": [
      "A = yT\n",
      "[ 1.00e+00  1.00e+00  1.00e+00  1.00e+00  1.00e+00  1.00e+00  1.00e+00 ... ]\n",
      "\n"
     ]
    }
   ],
   "source": [
    "A = cvxopt.matrix(y, (1,m))\n",
    "print(\"A = yT\") #vi Aa = 0 va y.a = 0 -> (yT)a=0\n",
    "print(A)"
   ]
  },
  {
   "cell_type": "code",
   "execution_count": 7,
   "metadata": {},
   "outputs": [
    {
     "name": "stdout",
     "output_type": "stream",
     "text": [
      "b = 0\n",
      "[ 0.00e+00]\n",
      "\n"
     ]
    }
   ],
   "source": [
    "b = cvxopt.matrix(0.0)\n",
    "print(\"b = 0\")\n",
    "print(b)"
   ]
  },
  {
   "cell_type": "code",
   "execution_count": 8,
   "metadata": {},
   "outputs": [
    {
     "name": "stdout",
     "output_type": "stream",
     "text": [
      "G = matran don vi * (-1)\n",
      "[-1.00e+00  0.00e+00  0.00e+00  0.00e+00  0.00e+00  0.00e+00  0.00e+00 ... ]\n",
      "[ 0.00e+00 -1.00e+00  0.00e+00  0.00e+00  0.00e+00  0.00e+00  0.00e+00 ... ]\n",
      "[ 0.00e+00  0.00e+00 -1.00e+00  0.00e+00  0.00e+00  0.00e+00  0.00e+00 ... ]\n",
      "[ 0.00e+00  0.00e+00  0.00e+00 -1.00e+00  0.00e+00  0.00e+00  0.00e+00 ... ]\n",
      "[ 0.00e+00  0.00e+00  0.00e+00  0.00e+00 -1.00e+00  0.00e+00  0.00e+00 ... ]\n",
      "[ 0.00e+00  0.00e+00  0.00e+00  0.00e+00  0.00e+00 -1.00e+00  0.00e+00 ... ]\n",
      "[ 0.00e+00  0.00e+00  0.00e+00  0.00e+00  0.00e+00  0.00e+00 -1.00e+00 ... ]\n",
      "[ 0.00e+00  0.00e+00  0.00e+00  0.00e+00  0.00e+00  0.00e+00  0.00e+00 ... ]\n",
      "[ 0.00e+00  0.00e+00  0.00e+00  0.00e+00  0.00e+00  0.00e+00  0.00e+00 ... ]\n",
      "[ 0.00e+00  0.00e+00  0.00e+00  0.00e+00  0.00e+00  0.00e+00  0.00e+00 ... ]\n",
      "[ 0.00e+00  0.00e+00  0.00e+00  0.00e+00  0.00e+00  0.00e+00  0.00e+00 ... ]\n",
      "[ 0.00e+00  0.00e+00  0.00e+00  0.00e+00  0.00e+00  0.00e+00  0.00e+00 ... ]\n",
      "[ 0.00e+00  0.00e+00  0.00e+00  0.00e+00  0.00e+00  0.00e+00  0.00e+00 ... ]\n",
      "[ 0.00e+00  0.00e+00  0.00e+00  0.00e+00  0.00e+00  0.00e+00  0.00e+00 ... ]\n",
      "[ 0.00e+00  0.00e+00  0.00e+00  0.00e+00  0.00e+00  0.00e+00  0.00e+00 ... ]\n",
      "\n"
     ]
    }
   ],
   "source": [
    "G = cvxopt.matrix(np.diag(-1 * np.ones(m)))\n",
    "print(\"G = matran don vi * (-1)\") #vi Ga <= h va -a <= 0, (<= trong truong hop nay la voi phan tu trong ve trai deu be hon hoac bang 0)\n",
    "print(G)"
   ]
  },
  {
   "cell_type": "code",
   "execution_count": 9,
   "metadata": {},
   "outputs": [
    {
     "name": "stdout",
     "output_type": "stream",
     "text": [
      "h = \n",
      "[ 0.00e+00]\n",
      "[ 0.00e+00]\n",
      "[ 0.00e+00]\n",
      "[ 0.00e+00]\n",
      "[ 0.00e+00]\n",
      "[ 0.00e+00]\n",
      "[ 0.00e+00]\n",
      "[ 0.00e+00]\n",
      "[ 0.00e+00]\n",
      "[ 0.00e+00]\n",
      "[ 0.00e+00]\n",
      "[ 0.00e+00]\n",
      "[ 0.00e+00]\n",
      "[ 0.00e+00]\n",
      "[ 0.00e+00]\n",
      "\n"
     ]
    }
   ],
   "source": [
    "h = cvxopt.matrix(np.zeros(m))\n",
    "print(\"h = \")\n",
    "print(h)"
   ]
  },
  {
   "cell_type": "code",
   "execution_count": 10,
   "metadata": {},
   "outputs": [
    {
     "name": "stdout",
     "output_type": "stream",
     "text": [
      "     pcost       dcost       gap    pres   dres\n",
      " 0: -4.9666e+00 -9.9510e+00  5e+01  6e+00  2e+00\n",
      " 1: -1.2173e+01 -1.1302e+01  2e+01  3e+00  9e-01\n",
      " 2: -4.2247e+01 -3.3684e+01  2e+01  2e+00  7e-01\n",
      " 3:  2.6134e+00 -8.5237e+00  2e+01  3e-01  1e-01\n",
      " 4: -2.1415e+00 -1.1231e+01  2e+01  2e-01  7e-02\n",
      " 5: -5.6409e+00 -6.5789e+00  1e+00  1e-03  4e-04\n",
      " 6: -6.4361e+00 -6.4465e+00  1e-02  1e-05  4e-06\n",
      " 7: -6.4444e+00 -6.4445e+00  1e-04  1e-07  4e-08\n",
      " 8: -6.4444e+00 -6.4444e+00  1e-06  1e-09  4e-10\n",
      "Optimal solution found.\n"
     ]
    }
   ],
   "source": [
    "solution = cvxopt.solvers.qp(P, q, G, h, A, b)"
   ]
  },
  {
   "cell_type": "code",
   "execution_count": 11,
   "metadata": {},
   "outputs": [
    {
     "name": "stdout",
     "output_type": "stream",
     "text": [
      "alphas: \n",
      "[1.16081372e-08 3.44235602e-09 1.02025683e-08 6.00270852e-09\n",
      " 1.55555544e+00 4.88888865e+00 8.29294313e-09 2.52942933e-08\n",
      " 2.97220475e-09 3.72162956e-09 6.62116654e-09 1.80957029e-08\n",
      " 9.08418888e-09 9.29911088e-09 6.44444405e+00]\n"
     ]
    }
   ],
   "source": [
    "alphas = np.ravel(solution['x'])\n",
    "print(\"alphas: \")\n",
    "print(alphas)"
   ]
  },
  {
   "cell_type": "code",
   "execution_count": 12,
   "metadata": {},
   "outputs": [
    {
     "name": "stdout",
     "output_type": "stream",
     "text": [
      "alphas_greater_0: \n",
      "[False False False False  True  True False False False False False False\n",
      " False False  True]\n"
     ]
    }
   ],
   "source": [
    "alphas_greater_0 = alphas > 1e-6\n",
    "print(\"alphas_greater_0: \")\n",
    "print(alphas_greater_0)"
   ]
  },
  {
   "cell_type": "code",
   "execution_count": 13,
   "metadata": {},
   "outputs": [
    {
     "name": "stdout",
     "output_type": "stream",
     "text": [
      "support_vectors: \n",
      "[[9 6]\n",
      " [4 8]\n",
      " [5 7]]\n",
      "support_vectors_label: \n",
      "[ 1.  1. -1.]\n"
     ]
    }
   ],
   "source": [
    "support_vectors = X[alphas_greater_0]\n",
    "print(\"support_vectors: \")\n",
    "print(support_vectors)\n",
    "support_vectors_label = y[alphas_greater_0]\n",
    "print(\"support_vectors_label: \")\n",
    "print(support_vectors_label)"
   ]
  },
  {
   "cell_type": "code",
   "execution_count": 14,
   "metadata": {},
   "outputs": [],
   "source": [
    "def compute_w(alphas, X, y):\n",
    "    return np.sum(alphas[i] * y[i] * X[i]\n",
    "                 for i in range(len(y)))"
   ]
  },
  {
   "cell_type": "code",
   "execution_count": 15,
   "metadata": {},
   "outputs": [
    {
     "name": "stdout",
     "output_type": "stream",
     "text": [
      "w = (i = (1->m)(aiyixi))\n",
      "[1.33333337 3.33333338]\n"
     ]
    },
    {
     "name": "stderr",
     "output_type": "stream",
     "text": [
      "c:\\program files (x86)\\microsoft visual studio\\shared\\python37_64\\lib\\site-packages\\ipykernel_launcher.py:3: DeprecationWarning: Calling np.sum(generator) is deprecated, and in the future will give a different result. Use np.sum(np.fromiter(generator)) or the python sum builtin instead.\n",
      "  This is separate from the ipykernel package so we can avoid doing imports until\n"
     ]
    }
   ],
   "source": [
    "w = compute_w(alphas, X, y)\n",
    "\n",
    "\n",
    "print(\"w = (i = (1->m)(aiyixi))\")\n",
    "print(w)"
   ]
  },
  {
   "cell_type": "code",
   "execution_count": 16,
   "metadata": {},
   "outputs": [],
   "source": [
    "def compute_b(w, X, y):\n",
    "    return np.sum([y[i] - np.dot(w, X[i])\n",
    "                  for i in range(len(X))]) / len(X)"
   ]
  },
  {
   "cell_type": "code",
   "execution_count": 17,
   "metadata": {},
   "outputs": [
    {
     "name": "stdout",
     "output_type": "stream",
     "text": [
      "b = (1 / S) * (i = 1->S)(yi - w.xi), S = number of support vector\n",
      "-31.000000546847286\n"
     ]
    }
   ],
   "source": [
    "b = compute_b(w, support_vectors, support_vectors_label)\n",
    "print(\"b = (1 / S) * (i = 1->S)(yi - w.xi), S = number of support vector\")\n",
    "print(b)"
   ]
  },
  {
   "cell_type": "code",
   "execution_count": null,
   "metadata": {},
   "outputs": [],
   "source": []
  },
  {
   "cell_type": "code",
   "execution_count": 18,
   "metadata": {},
   "outputs": [],
   "source": [
    "import matplotlib.pyplot as plt"
   ]
  },
  {
   "cell_type": "code",
   "execution_count": 19,
   "metadata": {},
   "outputs": [
    {
     "data": {
      "text/plain": [
       "[<matplotlib.lines.Line2D at 0x27bc42d37b8>]"
      ]
     },
     "execution_count": 19,
     "metadata": {},
     "output_type": "execute_result"
    },
    {
     "data": {
      "image/png": "[encoded data removed]",
      "text/plain": [
       "<Figure size 432x288 with 1 Axes>"
      ]
     },
     "metadata": {
      "needs_background": "light"
     },
     "output_type": "display_data"
    }
   ],
   "source": [
    "x = np.linspace(0, 10, 10)\n",
    "plt.plot(X[:,0], X[:,1], 'go')\n",
    "plt.plot(x, (-b - x*w[0])/w[1], 'b-')\n",
    "\n",
    "#X1 = np.array([[8, 7], [4, 10], [9, 7], [7, 10],\n",
    "#                   [9, 6], [4, 8], [10, 10]])\n",
    "#y1 = np.ones(len(X1))\n",
    "#plt.plot(X1[:,0], X1[:,1], 'ro')\n",
    "\n",
    "#X2 = np.array([[2, 7], [8, 3], [7, 5], [4, 4],\n",
    "#                   [4, 6], [1, 3], [2, 5]])\n",
    "#y2 = np.ones(len(X2)) * -1\n",
    "#plt.plot(X2[:,0], X2[:,1], 'bo')\n"
   ]
  },
  {
   "cell_type": "code",
   "execution_count": null,
   "metadata": {},
   "outputs": [],
   "source": []
  },
  {
   "cell_type": "code",
   "execution_count": null,
   "metadata": {},
   "outputs": [],
   "source": []
  }
 ],
 "metadata": {
  "kernelspec": {
   "display_name": "Python 3",
   "language": "python",
   "name": "python3"
  },
  "language_info": {
   "codemirror_mode": {
    "name": "ipython",
    "version": 3
   },
   "file_extension": ".py",
   "mimetype": "text/x-python",
   "name": "python",
   "nbconvert_exporter": "python",
   "pygments_lexer": "ipython3",
   "version": "3.7.3"
  }
 },
 "nbformat": 4,
 "nbformat_minor": 2
}
